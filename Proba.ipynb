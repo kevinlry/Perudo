{
 "cells": [
  {
   "cell_type": "code",
   "execution_count": 27,
   "metadata": {},
   "outputs": [],
   "source": [
    "from math import comb\n",
    "\n",
    "def probabilite (vecteur, mise_adverse):\n",
    "    \n",
    "    vecteur_compte= [0 for i in range(6)]\n",
    "    \n",
    "    for i in vecteur:\n",
    "        if i>0:\n",
    "            vecteur_compte[i-1]+=1\n",
    "    \n",
    "    n= mise_adverse[0]-vecteur_compte[mise_adverse[1]-1]\n",
    "    \n",
    "    if n<=0 : \n",
    "        return(1)\n",
    "    else:\n",
    "        p=0\n",
    "        for i in range(n,mise_adverse[2]+1):\n",
    "            p+= comb(mise_adverse[2],i)*((1/6)**(i))*((5/6)**(mise_adverse[2]-i))\n",
    "\n",
    "        return(p)"
   ]
  },
  {
   "cell_type": "code",
   "execution_count": 32,
   "metadata": {},
   "outputs": [
    {
     "data": {
      "text/plain": [
       "0"
      ]
     },
     "execution_count": 32,
     "metadata": {},
     "output_type": "execute_result"
    }
   ],
   "source": [
    "probabilite([1,3,4,1,0],[4,1,1])"
   ]
  },
  {
   "cell_type": "code",
   "execution_count": null,
   "metadata": {},
   "outputs": [
    {
     "ename": "",
     "evalue": "",
     "output_type": "error",
     "traceback": [
      "\u001b[1;31mRunning cells with 'c:\\Users\\Thomas GUICHET\\AppData\\Local\\Microsoft\\WindowsApps\\python3.8.exe' requires the ipykernel package.\n",
      "\u001b[1;31mRun the following command to install 'ipykernel' into the Python environment. \n",
      "\u001b[1;31mCommand: '\"c:/Users/Thomas GUICHET/AppData/Local/Microsoft/WindowsApps/python3.8.exe\" -m pip install ipykernel -U --user --force-reinstall'"
     ]
    }
   ],
   "source": [
    "def probabilite_calza (vecteur, mise_adverse):\n",
    "    \n",
    "    vecteur_compte= [0 for i in range(6)]\n",
    "    \n",
    "    for i in vecteur:\n",
    "        if i>0:\n",
    "            vecteur_compte[i-1]+=1\n",
    "    \n",
    "    n= mise_adverse[0]-vecteur_compte[mise_adverse[1]-1]\n",
    "    \n",
    "    if n<0 : \n",
    "        return(0)\n",
    "    else:\n",
    "        p=(1/6)**(n)*(5/6)**(mise_adverse[2]-n)\n",
    "\n",
    "    return(p)"
   ]
  }
 ],
 "metadata": {
  "kernelspec": {
   "display_name": "Python 3",
   "language": "python",
   "name": "python3"
  },
  "language_info": {
   "codemirror_mode": {
    "name": "ipython",
    "version": 3
   },
   "file_extension": ".py",
   "mimetype": "text/x-python",
   "name": "python",
   "nbconvert_exporter": "python",
   "pygments_lexer": "ipython3",
   "version": "3.8.10"
  },
  "orig_nbformat": 4,
  "vscode": {
   "interpreter": {
    "hash": "31f2aee4e71d21fbe5cf8b01ff0e069b9275f58929596ceb00d14d90e3e16cd6"
   }
  }
 },
 "nbformat": 4,
 "nbformat_minor": 2
}
